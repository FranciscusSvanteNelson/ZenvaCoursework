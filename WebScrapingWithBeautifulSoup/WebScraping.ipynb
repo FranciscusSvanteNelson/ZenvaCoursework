{
 "cells": [
  {
   "cell_type": "code",
   "execution_count": 1,
   "id": "c058decd-78d4-46b9-8dd3-54d70fb60a81",
   "metadata": {},
   "outputs": [],
   "source": [
    "from bs4 import BeautifulSoup as soup\n",
    "from urllib.request import urlopen"
   ]
  },
  {
   "cell_type": "code",
   "execution_count": 2,
   "id": "58a6a982-cf63-4b19-9271-e604175797eb",
   "metadata": {},
   "outputs": [],
   "source": [
    "wiki_url = 'https://en.wikipedia.org/wiki/Genome'\n",
    "wiki_data = urlopen(wiki_url)\n",
    "wiki_html = wiki_data.read()\n",
    "wiki_data.close\n",
    "\n",
    "page_soup = soup(wiki_html, 'html.parser')"
   ]
  },
  {
   "cell_type": "code",
   "execution_count": 4,
   "id": "7de137b9-dad8-46ff-b65e-c38bee60b82e",
   "metadata": {},
   "outputs": [
    {
     "name": "stdout",
     "output_type": "stream",
     "text": [
      "<h1 class=\"firstHeading\" id=\"firstHeading\">Genome</h1>\n"
     ]
    }
   ],
   "source": [
    "print(page_soup.h1)"
   ]
  },
  {
   "cell_type": "code",
   "execution_count": 23,
   "id": "f31a62e2-cc29-47b1-be3d-eb81575f8c37",
   "metadata": {},
   "outputs": [],
   "source": [
    "genome_table = page_soup.findAll('table', {'class': 'wikitable sortable'})\n"
   ]
  },
  {
   "cell_type": "code",
   "execution_count": 6,
   "id": "bf743a58-dfe4-4920-9f63-7dad76a3919b",
   "metadata": {},
   "outputs": [
    {
     "name": "stdout",
     "output_type": "stream",
     "text": [
      "[<th>Organism type\n",
      "</th>, <th>Organism\n",
      "</th>, <th colspan=\"2\">Genome size <br/>(<a href=\"/wiki/Base_pair\" title=\"Base pair\">base pairs</a>)\n",
      "</th>, <th>Approx. no. of genes\n",
      "</th>, <th class=\"unsortable\">Note\n",
      "</th>]\n"
     ]
    }
   ],
   "source": [
    "genome_table = genome_table[0]\n",
    "headers = genome_table.findAll('th', {})\n",
    "print(headers)"
   ]
  },
  {
   "cell_type": "code",
   "execution_count": 12,
   "id": "62dd2827-ac8b-4053-93d5-e07848d5b38f",
   "metadata": {},
   "outputs": [
    {
     "name": "stdout",
     "output_type": "stream",
     "text": [
      "['Organism type']\n",
      "['Organism type', 'Organism']\n",
      "['Organism type', 'Organism', 'Genome size (base pairs)']\n",
      "['Organism type', 'Organism', 'Genome size (base pairs)', 'Approx. no. of genes']\n",
      "['Organism type', 'Organism', 'Genome size (base pairs)', 'Approx. no. of genes', 'Note']\n"
     ]
    }
   ],
   "source": [
    "header_titles = []\n",
    "for header in headers:\n",
    "    header_titles.append(header.text[:-1])\n",
    "    print(header_titles)"
   ]
  },
  {
   "cell_type": "code",
   "execution_count": 22,
   "id": "824d3e4c-33a8-4f1a-bffa-922fbf5442df",
   "metadata": {},
   "outputs": [
    {
     "name": "stdout",
     "output_type": "stream",
     "text": [
      "['Virus\\nViru', 'Porcine circovirus type 1\\nPorcine circovirus type ', '1,759\\n1,75', '1.8\\xa0kB\\n1.8\\xa0k', '', 'Smallest viruses replicating autonomously in eukaryotic cells.[49]\\nSmallest viruses replicating autonomously in eukaryotic cells.[49']\n"
     ]
    }
   ],
   "source": [
    "all_rows = genome_table.findAll('tr', {})\n",
    "data = all_rows[1:]\n",
    "\n",
    "first_row = data[0]\n",
    "first_row_data = first_row.findAll('td', {})\n",
    "\n",
    "data_texts = []\n",
    "for data_text in first_row_data:\n",
    "    data_texts.append(data_text.text[:-1])\n",
    "\n",
    "print(data_texts)\n",
    "\n"
   ]
  },
  {
   "cell_type": "code",
   "execution_count": 24,
   "id": "bc066872-a5bd-4771-b441-836eaca019a3",
   "metadata": {},
   "outputs": [
    {
     "name": "stdout",
     "output_type": "stream",
     "text": [
      "[['Virus\\nViru', 'Porcine circovirus type 1\\nPorcine circovirus type ', '1,759\\n1,75', '1.8\\xa0kB\\n1.8\\xa0k', '', 'Smallest viruses replicating autonomously in eukaryotic cells.[49]\\nSmallest viruses replicating autonomously in eukaryotic cells.[49'], ['Virus', 'Bacteriophage MS2', '3,569', '3.5\\xa0kB', '', 'First sequenced RNA-genome[50]'], ['Virus', 'SV40', '5,224', '5.2\\xa0kB', '', '[51]'], ['Virus', 'Phage Φ-X174', '5,386', '5.4\\xa0kB', '', 'First sequenced DNA-genome[52]'], ['Virus', 'HIV', '9,749', '9.7\\xa0kB', '', '[53]'], ['Virus', 'Phage λ', '48,502', '48.5\\xa0kB', '', 'Often used as a vector for the cloning of recombinant DNA.\\n[54]\\n[55]\\n[56]\\n'], ['Virus', 'Megavirus', '1,259,197', '1.3\\xa0MB', '', 'Until 2013 the largest known viral genome.[57]'], ['Virus', 'Pandoravirus salinus', '2,470,000', '2.47\\xa0MB', '', 'Largest known viral genome.[58]'], ['Eukaryotic organelle', 'Human mitochondrion', '16,569', '16.6\\xa0kB', '', '[59]'], ['Bacterium', 'Nasuia deltocephalinicola (strain NAS-ALF)', '112,091', '112\\xa0kB', '137', 'Smallest known non-viral genome. Symbiont of leafhoppers.[60]'], ['Bacterium', 'Carsonella ruddii', '159,662', '160\\xa0kB', '', 'An endosymbiont of psyllid insects'], ['Bacterium', 'Buchnera aphidicola', '600,000', '600\\xa0kB', '', 'An endosymbiont of aphids[61]'], ['Bacterium', 'Wigglesworthia glossinidia', '700,000', '700Kb', '', 'A symbiont in the gut of the tsetse fly'], ['Bacterium – cyanobacterium', 'Prochlorococcus spp. (1.7 Mb)', '1,700,000', '1.7\\xa0MB', '1,884', 'Smallest known cyanobacterium genome. One of the primary photosynthesizers on Earth.[62][63]'], ['Bacterium', 'Haemophilus influenzae', '1,830,000', '1.8\\xa0MB', '', 'First genome of a living organism sequenced, July 1995[64]'], ['Bacterium', 'Escherichia coli', '4,600,000', '4.6\\xa0MB', '4,288', '[65]'], ['Bacterium – cyanobacterium', 'Nostoc punctiforme', '9,000,000', '9\\xa0MB', '7,432', '7432 open reading frames[66]'], ['Bacterium', 'Solibacter usitatus (strain Ellin 6076)', '9,970,000', '10\\xa0MB', '', '[67]'], ['Amoeboid', 'Polychaos dubium (\"Amoeba\" dubia)', '670,000,000,000', '670\\xa0GB', '', 'Largest known genome.[68] (Disputed)[69]'], ['Plant', 'Genlisea tuberosa', '61,000,000', '61\\xa0MB', '', 'Smallest recorded flowering plant genome, 2014.[70]'], ['Plant', 'Arabidopsis thaliana', '135,000,000[71]', '135 MB', '27,655[72]', 'First plant genome sequenced, December 2000.[73]'], ['Plant', 'Populus trichocarpa', '480,000,000', '480\\xa0MB', '73,013', 'First tree genome sequenced, September 2006[74]'], ['Plant', 'Fritillaria assyriaca', '130,000,000,000', '130\\xa0GB', '', ''], ['Plant', 'Paris japonica (Japanese-native, pale-petal)', '150,000,000,000', '150\\xa0GB', '', 'Largest plant genome known[75]'], ['Plant – moss', 'Physcomitrella patens', '480,000,000', '480\\xa0MB', '', 'First genome of a bryophyte sequenced, January 2008.[76]'], ['Fungus – yeast', 'Saccharomyces cerevisiae', '12,100,000', '12.1\\xa0MB', '6,294', 'First eukaryotic genome sequenced, 1996[77]'], ['Fungus', 'Aspergillus nidulans', '30,000,000', '30\\xa0MB', '9,541', '[78]'], ['Nematode', 'Pratylenchus coffeae', '20,000,000', '20\\xa0MB', '', '[79] Smallest animal genome known[80]'], ['Nematode', 'Caenorhabditis elegans', '100,300,000', '100\\xa0MB', '19,000', 'First multicellular animal genome sequenced, December 1998[81]'], ['Insect', 'Drosophila melanogaster (fruit fly)', '175,000,000', '175\\xa0MB', '13,600', 'Size variation based on strain (175-180Mb; standard y w strain is 175Mb)[82]'], ['Insect', 'Apis mellifera (honey bee)', '236,000,000', '236\\xa0MB', '10,157', '[83]'], ['Insect', 'Bombyx mori (silk moth)', '432,000,000', '432\\xa0MB', '14,623', '14,623 predicted genes[84]'], ['Insect', 'Solenopsis invicta (fire ant)', '480,000,000', '480\\xa0MB', '16,569', '[85]'], ['Mammal', 'Mus musculus', '2,700,000,000', '2.7\\xa0GB', '20,210', '[86]'], ['Mammal', 'Pan paniscus', '3,286,640,000', '3.3\\xa0GB', '20,000', 'Bonobo -  estimated genome size 3.29 billion bp[87]'], ['Mammal', 'Homo sapiens', '3,000,000,000', '3\\xa0GB', '20,000', 'Homo sapiens genome size estimated at 3.2 Gbp in 2001[88][89]\\nInitial sequencing and analysis of the human genome[90]\\n'], ['Bird', 'Gallus gallus', '1,043,000,000', '1.0\\xa0GB', '20,000', '[91]'], ['Fish', 'Tetraodon nigroviridis (type of puffer fish)', '385,000,000', '390\\xa0MB', '', 'Smallest vertebrate genome known estimated to be 340 Mb[92][93] – 385 Mb.[94]'], ['Fish', 'Protopterus aethiopicus (marbled lungfish)', '130,000,000,000', '130\\xa0GB', '', 'Largest vertebrate genome known']]\n"
     ]
    }
   ],
   "source": [
    "table_rows = []\n",
    "\n",
    "for row in data:\n",
    "    table_row = []\n",
    "    row_data = row.findAll('td', {})\n",
    "    for data_point in row_data:\n",
    "        table_row.append(data_point.text[:-1])\n",
    "    table_rows.append(table_row)\n",
    "        \n",
    "print(table_rows)"
   ]
  },
  {
   "cell_type": "code",
   "execution_count": 35,
   "id": "e5c0410a-de4f-4941-88db-53ce2d805413",
   "metadata": {},
   "outputs": [],
   "source": [
    "filename = 'genome_table.csv'\n",
    "f = open(filename, 'w', encoding=\"utf-8\")\n",
    "header_string = ''\n",
    "for title in header_titles:\n",
    "    header_string += title + ','\n",
    "header_string = header_string[:-1]\n",
    "header_string += '\\n'\n",
    "f.write(header_string)\n",
    "for row in table_rows:\n",
    "    row_string = ''\n",
    "    for column in row:\n",
    "        column_string = column.replace(',', '')  #comma-less version saved to column_string\n",
    "        row_string += column_string + ','        #updated to refer to column_string\n",
    "    row_string = row_string[:-1]\n",
    "    row_string += '\\n'\n",
    "    \n",
    "    f.write(row_string)\n",
    "    \n",
    "f.close()"
   ]
  },
  {
   "cell_type": "code",
   "execution_count": 48,
   "id": "bb10c7f4-281b-4f32-883b-22e58869a8ba",
   "metadata": {},
   "outputs": [
    {
     "name": "stdout",
     "output_type": "stream",
     "text": [
      "<h1 class=\"firstHeading\" id=\"firstHeading\">Genome</h1>\n"
     ]
    }
   ],
   "source": [
    "filename = 'Genome - Wikipedia.html'\n",
    "f = open(filename, encoding=\"utf8\")\n",
    "new_soup = soup(f, 'html.parser')\n",
    "print(new_soup.h1)   #scrape data from a local file , file no longer included deleted for uploading to github"
   ]
  },
  {
   "cell_type": "code",
   "execution_count": 56,
   "id": "7e766aef-b847-44b8-a405-8f0212f15dfd",
   "metadata": {},
   "outputs": [
    {
     "name": "stdout",
     "output_type": "stream",
     "text": [
      "[['#cite_ref-Roth_p._1-0', '//www.ncbi.nlm.nih.gov/pmc/articles/PMC6579593', '/wiki/Doi_(identifier)', 'https://doi.org/10.5195%2Fjmla.2019.604', '/wiki/ISSN_(identifier)', '//www.worldcat.org/issn/1558-9439', '/wiki/PMC_(identifier)', '//www.ncbi.nlm.nih.gov/pmc/articles/PMC6579593', '/wiki/PMID_(identifier)', '//pubmed.ncbi.nlm.nih.gov/31258451'], ['#cite_ref-2', '/wiki/Bibcode_(identifier)', 'https://ui.adsabs.harvard.edu/abs/2009NYASA1178..186B', '/wiki/Doi_(identifier)', 'https://doi.org/10.1111%2Fj.1749-6632.2009.05004.x', '/wiki/PMID_(identifier)', '//pubmed.ncbi.nlm.nih.gov/19845638', '/wiki/S2CID_(identifier)', 'https://api.semanticscholar.org/CorpusID:8279434'], ['#cite_ref-3', '/wiki/Matt_Ridley', 'https://web.archive.org/web/20181024231945/http://bioinformaticsinstitute.ru/sites/default/files/genome_the_autobiography_of_a_species_in_23_chapters_-_matt_ridley.pdf', '/wiki/ISBN_(identifier)', '/wiki/Special:BookSources/978-0-06-019497-0', 'http://bioinformaticsinstitute.ru/sites/default/files/genome_the_autobiography_of_a_species_in_23_chapters_-_matt_ridley.pdf'], ['#cite_ref-4', 'https://archive.org/details/verbreitungundur00wink'], ['#cite_ref-5', 'http://www.oxforddictionaries.com/us/definition/american_english/genome'], ['#cite_ref-6', 'https://web.archive.org/web/20060929175954/https://lhncbc.nlm.nih.gov/lhc/docs/published/2001/pub2001047.pdf', 'http://lhncbc.nlm.nih.gov/lhc/docs/published/2001/pub2001047.pdf'], ['#cite_ref-7', 'http://www.beowulf.org.uk/'], ['#cite_ref-8', 'https://www.ncbi.nlm.nih.gov/sites/entrez?db=Genome&itool=toolbar'], ['#cite_ref-NYT-20131218_9-0', '/wiki/Carl_Zimmer', 'https://www.nytimes.com/2013/12/19/science/toe-fossil-provides-complete-neanderthal-genome.html', '/wiki/The_New_York_Times'], ['#cite_ref-NAT-20131218_10-0', '//www.ncbi.nlm.nih.gov/pmc/articles/PMC4031459', '/wiki/Bibcode_(identifier)', 'https://ui.adsabs.harvard.edu/abs/2014Natur.505...43P', '/wiki/Doi_(identifier)', 'https://doi.org/10.1038%2Fnature12886', '/wiki/PMC_(identifier)', '//www.ncbi.nlm.nih.gov/pmc/articles/PMC4031459', '/wiki/PMID_(identifier)', '//pubmed.ncbi.nlm.nih.gov/24352235'], ['#cite_ref-11', 'https://www.nytimes.com/2007/05/31/science/31cnd-gene.html'], ['#cite_ref-12', 'http://www.genomenewsnetwork.org/resources/whats_a_genome/Chp3_1.shtml'], ['#cite_ref-13', 'https://web.archive.org/web/20100719235548/http://www.ncbi.nlm.nih.gov/About/primer/mapping.html', 'https://www.ncbi.nlm.nih.gov/About/primer/mapping.html'], ['#cite_ref-14', 'https://www.ncbi.nlm.nih.gov/projects/genome/assembly/grc/info/'], ['#cite_ref-15', 'https://www.washingtonpost.com/news/speaking-of-science/wp/2016/05/17/how-do-your-20000-genes-determine-so-many-wildly-different-traits-they-multitask/'], ['#cite_ref-Hayden_16-0', 'https://www.nature.com/news/scientists-hope-to-attract-millions-to-dna-land-1.18514', '/wiki/Doi_(identifier)', 'https://doi.org/10.1038%2Fnature.2015.18514'], ['#cite_ref-DNA.land_17-0', 'https://www.statnews.com/feature/game-of-genomes/season-three/'], ['#cite_ref-18', 'https://www.ncbi.nlm.nih.gov/books/NBK8174/', '/wiki/ISBN_(identifier)', '/wiki/Special:BookSources/9780963117212', '/wiki/PMID_(identifier)', '//pubmed.ncbi.nlm.nih.gov/21413309'], ['#cite_ref-19', '/wiki/ISBN_(identifier)', '/wiki/Special:BookSources/978-0134093413'], ['#cite_ref-20', '/wiki/ISBN_(identifier)', '/wiki/Special:BookSources/978-0134093413'], ['#cite_ref-21', '//www.ncbi.nlm.nih.gov/pmc/articles/PMC5175462', '/wiki/Doi_(identifier)', 'https://doi.org/10.1159%2F000368854', '/wiki/PMC_(identifier)', '//www.ncbi.nlm.nih.gov/pmc/articles/PMC5175462', '/wiki/PMID_(identifier)', '//pubmed.ncbi.nlm.nih.gov/25732343'], ['#cite_ref-22', 'http://www.asmscience.org/content/book/10.1128/9781555817640.chap29', '/wiki/Doi_(identifier)', 'https://doi.org/10.1128%2F9781555817640.ch29', '/wiki/ISBN_(identifier)', '/wiki/Special:BookSources/9781555812324'], ['#cite_ref-23', 'http://www.sci.sdsu.edu/~smaloy/MicrobialGenetics/topics/chroms-genes-prots/chromosomes.html'], ['#cite_ref-constraints_and_plasticity_in_genome_and_molecular_24-0', '#cite_ref-constraints_and_plasticity_in_genome_and_molecular_24-1', '//www.ncbi.nlm.nih.gov/pmc/articles/PMC3273317', '/wiki/Doi_(identifier)', 'https://doi.org/10.1038%2Fnrg2810', '/wiki/PMC_(identifier)', '//www.ncbi.nlm.nih.gov/pmc/articles/PMC3273317', '/wiki/PMID_(identifier)', '//pubmed.ncbi.nlm.nih.gov/20548290'], ['#cite_ref-25', '/wiki/Doi_(identifier)', 'https://doi.org/10.1038%2Fnrmicro2670', '/wiki/PMID_(identifier)', '//pubmed.ncbi.nlm.nih.gov/22064560', '/wiki/S2CID_(identifier)', 'https://api.semanticscholar.org/CorpusID:7175976'], ['#cite_ref-26', '//www.ncbi.nlm.nih.gov/pmc/articles/PMC4361730', '/wiki/Doi_(identifier)', 'https://doi.org/10.1007%2Fs10142-015-0433-4', '/wiki/PMC_(identifier)', '//www.ncbi.nlm.nih.gov/pmc/articles/PMC4361730', '/wiki/PMID_(identifier)', '//pubmed.ncbi.nlm.nih.gov/25722247'], ['#cite_ref-27', 'https://www.sciencedaily.com/releases/2017/09/170921141303.htm'], ['#cite_ref-28', '/wiki/Doi_(identifier)', 'https://doi.org/10.1111%2Fj.1095-8339.1990.tb01876.x'], ['#cite_ref-:0_29-0', '#cite_ref-:0_29-1', '#cite_ref-:0_29-2', '#cite_ref-:0_29-3', '//www.ncbi.nlm.nih.gov/pmc/articles/PMC7431005', '/wiki/Doi_(identifier)', 'https://doi.org/10.1073%2Fpnas.1921719117', '/wiki/ISSN_(identifier)', '//www.worldcat.org/issn/1091-6490', '/wiki/PMC_(identifier)', '//www.ncbi.nlm.nih.gov/pmc/articles/PMC7431005', '/wiki/PMID_(identifier)', '//pubmed.ncbi.nlm.nih.gov/32719115'], ['#cite_ref-Lewin_2004_30-0', '#cite_ref-Lewin_2004_30-1', '#cite_ref-Lewin_2004_30-2', '/wiki/ISBN_(identifier)', '/wiki/Special:BookSources/978-0-13-143981-8'], ['#cite_ref-pmid33879057_31-0', '//www.ncbi.nlm.nih.gov/pmc/articles/PMC8056616', '/wiki/Doi_(identifier)', 'https://doi.org/10.1186%2Fs12859-021-04120-9', '/wiki/PMC_(identifier)', '//www.ncbi.nlm.nih.gov/pmc/articles/PMC8056616', '/wiki/PMID_(identifier)', '//pubmed.ncbi.nlm.nih.gov/33879057'], ['#cite_ref-32', '/wiki/ISBN_(identifier)', '/wiki/Special:BookSources/978-1-904933-30-4'], ['#cite_ref-Padeken_33-0', '#cite_ref-Padeken_33-1', '#cite_ref-Padeken_33-2', '/wiki/Doi_(identifier)', 'https://doi.org/10.1016%2Fj.gde.2015.03.009', '/wiki/PMID_(identifier)', '//pubmed.ncbi.nlm.nih.gov/25917896'], ['#cite_ref-Usdin_34-0', '#cite_ref-Usdin_34-1', '//www.ncbi.nlm.nih.gov/pmc/articles/PMC3960014', '/wiki/Doi_(identifier)', 'https://doi.org/10.1101%2Fgr.070409.107', '/wiki/PMC_(identifier)', '//www.ncbi.nlm.nih.gov/pmc/articles/PMC3960014', '/wiki/PMID_(identifier)', '//pubmed.ncbi.nlm.nih.gov/18593815'], ['#cite_ref-35', 'https://doi.org/10.1046%2Fj.1365-294X.2002.01643.x', '/wiki/Doi_(identifier)', 'https://doi.org/10.1046%2Fj.1365-294X.2002.01643.x', '/wiki/PMID_(identifier)', '//pubmed.ncbi.nlm.nih.gov/12453231', '/wiki/S2CID_(identifier)', 'https://api.semanticscholar.org/CorpusID:23606208'], ['#cite_ref-Wessler_17600–17601_36-0', '#cite_ref-Wessler_17600–17601_36-1', '//www.ncbi.nlm.nih.gov/pmc/articles/PMC1693792', '/wiki/Bibcode_(identifier)', 'https://ui.adsabs.harvard.edu/abs/2006PNAS..10317600W', '/wiki/Doi_(identifier)', 'https://doi.org/10.1073%2Fpnas.0607612103', '/wiki/PMC_(identifier)', '//www.ncbi.nlm.nih.gov/pmc/articles/PMC1693792', '/wiki/PMID_(identifier)', '//pubmed.ncbi.nlm.nih.gov/17101965'], ['#cite_ref-Kazazian_1626–1632_37-0', '#cite_ref-Kazazian_1626–1632_37-1', '#cite_ref-Kazazian_1626–1632_37-2', '#cite_ref-Kazazian_1626–1632_37-3', '#cite_ref-Kazazian_1626–1632_37-4', '/wiki/Bibcode_(identifier)', 'https://ui.adsabs.harvard.edu/abs/2004Sci...303.1626K', '/wiki/Doi_(identifier)', 'https://doi.org/10.1126%2Fscience.1089670', '/wiki/PMID_(identifier)', '//pubmed.ncbi.nlm.nih.gov/15016989', '/wiki/S2CID_(identifier)', 'https://api.semanticscholar.org/CorpusID:1956932'], ['#cite_ref-38', 'https://www.britannica.com/science/transposon'], ['#cite_ref-39', '/wiki/ISBN_(identifier)', '/wiki/Special:BookSources/9780134605173'], ['#cite_ref-40', '/wiki/Doi_(identifier)', 'https://doi.org/10.1016%2Fj.gde.2003.10.013', '/wiki/PMID_(identifier)', '//pubmed.ncbi.nlm.nih.gov/14638329'], ['#cite_ref-41', '/wiki/Doi_(identifier)', 'https://doi.org/10.1016%2FS0169-5347%2899%2901817-0', '/wiki/PMID_(identifier)', '//pubmed.ncbi.nlm.nih.gov/10675923'], ['#cite_ref-42', '//www.ncbi.nlm.nih.gov/pmc/articles/PMC2593564', '/wiki/Doi_(identifier)', 'https://doi.org/10.1128%2FMMBR.00011-08', '/wiki/PMC_(identifier)', '//www.ncbi.nlm.nih.gov/pmc/articles/PMC2593564', '/wiki/PMID_(identifier)', '//pubmed.ncbi.nlm.nih.gov/19052325'], ['#cite_ref-43', '//www.ncbi.nlm.nih.gov/pmc/articles/PMC2884099', '/wiki/Doi_(identifier)', 'https://doi.org/10.1038%2Fnrg2640', '/wiki/PMC_(identifier)', '//www.ncbi.nlm.nih.gov/pmc/articles/PMC2884099', '/wiki/PMID_(identifier)', '//pubmed.ncbi.nlm.nih.gov/19763152'], ['#cite_ref-44', '/wiki/Doi_(identifier)', 'https://doi.org/10.1002%2Fbies.20257', '/wiki/PMID_(identifier)', '//pubmed.ncbi.nlm.nih.gov/16015595', '/wiki/S2CID_(identifier)', 'https://api.semanticscholar.org/CorpusID:26424042'], ['#cite_ref-45', 'http://www.whatisdna.net/wiki/genetic-genealogy-understanding-ancestry-dna/'], ['#cite_ref-46', '//www.ncbi.nlm.nih.gov/pmc/articles/PMC1669731', '/wiki/Doi_(identifier)', 'https://doi.org/10.1093%2Fnar%2Fgkl828', '/wiki/PMC_(identifier)', '//www.ncbi.nlm.nih.gov/pmc/articles/PMC1669731', '/wiki/PMID_(identifier)', '//pubmed.ncbi.nlm.nih.gov/17090588'], ['#cite_ref-47', '//www.ncbi.nlm.nih.gov/pmc/articles/PMC1324956', '/wiki/Bibcode_(identifier)', 'https://ui.adsabs.harvard.edu/abs/2006PNAS..103..425G', '/wiki/Doi_(identifier)', 'https://doi.org/10.1073%2Fpnas.0510013103', '/wiki/PMC_(identifier)', '//www.ncbi.nlm.nih.gov/pmc/articles/PMC1324956', '/wiki/PMID_(identifier)', '//pubmed.ncbi.nlm.nih.gov/16407165'], ['#cite_ref-48', '//www.ncbi.nlm.nih.gov/pmc/articles/PMC1681520', '/wiki/Doi_(identifier)', 'https://doi.org/10.1038%2Fmsb4100090', '/wiki/PMC_(identifier)', '//www.ncbi.nlm.nih.gov/pmc/articles/PMC1681520', '/wiki/PMID_(identifier)', '//pubmed.ncbi.nlm.nih.gov/16924266'], ['#cite_ref-Equinexus_49-0', 'http://www.horizonpress.com/avir', '/wiki/ISBN_(identifier)', '/wiki/Special:BookSources/978-1-904455-22-6'], ['#cite_ref-Fiers1976_50-0', '/wiki/Bibcode_(identifier)', 'https://ui.adsabs.harvard.edu/abs/1976Natur.260..500F', '/wiki/Doi_(identifier)', 'https://doi.org/10.1038%2F260500a0', '/wiki/PMID_(identifier)', '//pubmed.ncbi.nlm.nih.gov/1264203', '/wiki/S2CID_(identifier)', 'https://api.semanticscholar.org/CorpusID:4289674'], ['#cite_ref-Fiers1978_51-0', '/wiki/Bibcode_(identifier)', 'https://ui.adsabs.harvard.edu/abs/1978Natur.273..113F', '/wiki/Doi_(identifier)', 'https://doi.org/10.1038%2F273113a0', '/wiki/PMID_(identifier)', '//pubmed.ncbi.nlm.nih.gov/205802', '/wiki/S2CID_(identifier)', 'https://api.semanticscholar.org/CorpusID:1634424'], ['#cite_ref-Sanger1977_52-0', '/wiki/Bibcode_(identifier)', 'https://ui.adsabs.harvard.edu/abs/1977Natur.265..687S', '/wiki/Doi_(identifier)', 'https://doi.org/10.1038%2F265687a0', '/wiki/PMID_(identifier)', '//pubmed.ncbi.nlm.nih.gov/870828', '/wiki/S2CID_(identifier)', 'https://api.semanticscholar.org/CorpusID:4206886'], ['#cite_ref-53', 'http://pathmicro.med.sc.edu/lecture/hiv9.htm'], ['#cite_ref-54', '/wiki/Doi_(identifier)', 'https://doi.org/10.1002%2F0471142727.mb0116s78', '/wiki/ISBN_(identifier)', '/wiki/Special:BookSources/978-0-471-14272-0', '/wiki/PMID_(identifier)', '//pubmed.ncbi.nlm.nih.gov/18265390', '/wiki/S2CID_(identifier)', 'https://api.semanticscholar.org/CorpusID:490362'], ['#cite_ref-55', '//www.ncbi.nlm.nih.gov/pmc/articles/PMC1797383', '/wiki/Doi_(identifier)', 'https://doi.org/10.1128%2FJB.01215-06', '/wiki/PMC_(identifier)', '//www.ncbi.nlm.nih.gov/pmc/articles/PMC1797383', '/wiki/PMID_(identifier)', '//pubmed.ncbi.nlm.nih.gov/17085553'], ['#cite_ref-56', '/wiki/Doi_(identifier)', 'https://doi.org/10.1016%2F0022-2836%2882%2990546-0', '/wiki/PMID_(identifier)', '//pubmed.ncbi.nlm.nih.gov/6221115'], ['#cite_ref-57', '//www.ncbi.nlm.nih.gov/pmc/articles/PMC3291303', '/wiki/Doi_(identifier)', 'https://doi.org/10.4161%2Fcib.18624', '/wiki/PMC_(identifier)', '//www.ncbi.nlm.nih.gov/pmc/articles/PMC3291303', '/wiki/PMID_(identifier)', '//pubmed.ncbi.nlm.nih.gov/22482024'], ['#cite_ref-58', 'https://hal-cea.archives-ouvertes.fr/cea-00862677/file/phi.pdf', '/wiki/Bibcode_(identifier)', 'https://ui.adsabs.harvard.edu/abs/2013Sci...341..281P', '/wiki/Doi_(identifier)', 'https://doi.org/10.1126%2Fscience.1239181', '/wiki/PMID_(identifier)', '//pubmed.ncbi.nlm.nih.gov/23869018', '/wiki/S2CID_(identifier)', 'https://api.semanticscholar.org/CorpusID:16877147'], ['#cite_ref-59', '/wiki/Bibcode_(identifier)', 'https://ui.adsabs.harvard.edu/abs/1981Natur.290..457A', '/wiki/Doi_(identifier)', 'https://doi.org/10.1038%2F290457a0', '/wiki/PMID_(identifier)', '//pubmed.ncbi.nlm.nih.gov/7219534', '/wiki/S2CID_(identifier)', 'https://api.semanticscholar.org/CorpusID:4355527'], ['#cite_ref-60', '//www.ncbi.nlm.nih.gov/pmc/articles/PMC3787670', '/wiki/Doi_(identifier)', 'https://doi.org/10.1093%2Fgbe%2Fevt118', '/wiki/PMC_(identifier)', '//www.ncbi.nlm.nih.gov/pmc/articles/PMC3787670', '/wiki/PMID_(identifier)', '//pubmed.ncbi.nlm.nih.gov/23918810'], ['#cite_ref-61', 'https://doi.org/10.1038%2F35024074', '/wiki/Bibcode_(identifier)', 'https://ui.adsabs.harvard.edu/abs/2000Natur.407...81S', '/wiki/Doi_(identifier)', 'https://doi.org/10.1038%2F35024074', '/wiki/PMID_(identifier)', '//pubmed.ncbi.nlm.nih.gov/10993077'], ['#cite_ref-62', '/wiki/Bibcode_(identifier)', 'https://ui.adsabs.harvard.edu/abs/2003Natur.424.1042R', '/wiki/Doi_(identifier)', 'https://doi.org/10.1038%2Fnature01947', '/wiki/PMID_(identifier)', '//pubmed.ncbi.nlm.nih.gov/12917642', '/wiki/S2CID_(identifier)', 'https://api.semanticscholar.org/CorpusID:4344597'], ['#cite_ref-63', '//www.ncbi.nlm.nih.gov/pmc/articles/PMC187748', '/wiki/Bibcode_(identifier)', 'https://ui.adsabs.harvard.edu/abs/2003PNAS..10010020D', '/wiki/Doi_(identifier)', 'https://doi.org/10.1073%2Fpnas.1733211100', '/wiki/PMC_(identifier)', '//www.ncbi.nlm.nih.gov/pmc/articles/PMC187748', '/wiki/PMID_(identifier)', '//pubmed.ncbi.nlm.nih.gov/12917486'], ['#cite_ref-Fleichmann_1995_64-0', '/wiki/Bibcode_(identifier)', 'https://ui.adsabs.harvard.edu/abs/1995Sci...269..496F', '/wiki/Doi_(identifier)', 'https://doi.org/10.1126%2Fscience.7542800', '/wiki/PMID_(identifier)', '//pubmed.ncbi.nlm.nih.gov/7542800', '/wiki/S2CID_(identifier)', 'https://api.semanticscholar.org/CorpusID:10423613'], ['#cite_ref-65', 'https://doi.org/10.1126%2Fscience.277.5331.1453', '/wiki/Doi_(identifier)', 'https://doi.org/10.1126%2Fscience.277.5331.1453', '/wiki/PMID_(identifier)', '//pubmed.ncbi.nlm.nih.gov/9278503'], ['#cite_ref-66', '/wiki/Doi_(identifier)', 'https://doi.org/10.1023%2FA%3A1013840025518', '/wiki/PMID_(identifier)', '//pubmed.ncbi.nlm.nih.gov/16228364', '/wiki/S2CID_(identifier)', 'https://api.semanticscholar.org/CorpusID:8752382'], ['#cite_ref-67', '//www.ncbi.nlm.nih.gov/pmc/articles/PMC3174227', '/wiki/Bibcode_(identifier)', 'https://ui.adsabs.harvard.edu/abs/2011PLoSO...624882C', '/wiki/Doi_(identifier)', 'https://doi.org/10.1371%2Fjournal.pone.0024882', '/wiki/PMC_(identifier)', '//www.ncbi.nlm.nih.gov/pmc/articles/PMC3174227', '/wiki/PMID_(identifier)', '//pubmed.ncbi.nlm.nih.gov/21949776'], ['#cite_ref-Parfrey2008_68-0', '//www.ncbi.nlm.nih.gov/pmc/articles/PMC2933061', '/wiki/Doi_(identifier)', 'https://doi.org/10.1093%2Fmolbev%2Fmsn032', '/wiki/PMC_(identifier)', '//www.ncbi.nlm.nih.gov/pmc/articles/PMC2933061', '/wiki/PMID_(identifier)', '//pubmed.ncbi.nlm.nih.gov/18258610'], ['#cite_ref-ScienceShot:_Biggest_Genome_Ever_69-0', 'http://news.sciencemag.org/sciencenow/2010/10/scienceshot-biggest-genome-ever.html', 'https://web.archive.org/web/20101011155609/http://news.sciencemag.org/sciencenow/2010/10/scienceshot-biggest-genome-ever.html', '/wiki/Wayback_Machine'], ['#cite_ref-Fleischmann_2014_70-0', '//www.ncbi.nlm.nih.gov/pmc/articles/PMC4649684', '/wiki/Doi_(identifier)', 'https://doi.org/10.1093%2Faob%2Fmcu189', '/wiki/PMC_(identifier)', '//www.ncbi.nlm.nih.gov/pmc/articles/PMC4649684', '/wiki/PMID_(identifier)', '//pubmed.ncbi.nlm.nih.gov/25274549'], ['#cite_ref-71', 'https://www.arabidopsis.org/portals/genAnnotation/gene_structural_annotation/agicomplete.jsp'], ['#cite_ref-72', 'http://plants.ensembl.org/Arabidopsis_thaliana/Info/Annotation/'], ['#cite_ref-Greilhuber_73-0', '/wiki/Doi_(identifier)', 'https://doi.org/10.1055%2Fs-2006-924101', '/wiki/PMID_(identifier)', '//pubmed.ncbi.nlm.nih.gov/17203433'], ['#cite_ref-74', 'https://digital.library.unt.edu/ark:/67531/metadc883930/m2/1/high_res_d/901819.pdf', '/wiki/Bibcode_(identifier)', 'https://ui.adsabs.harvard.edu/abs/2006Sci...313.1596T', '/wiki/Doi_(identifier)', 'https://doi.org/10.1126%2Fscience.1128691', '/wiki/PMID_(identifier)', '//pubmed.ncbi.nlm.nih.gov/16973872', '/wiki/S2CID_(identifier)', 'https://api.semanticscholar.org/CorpusID:7717980'], ['#cite_ref-75', 'https://doi.org/10.1111%2Fj.1095-8339.2010.01072.x', '/wiki/Doi_(identifier)', 'https://doi.org/10.1111%2Fj.1095-8339.2010.01072.x'], ['#cite_ref-pmid18762443_76-0', '/wiki/Doi_(identifier)', 'https://doi.org/10.1016%2Fj.tplants.2008.07.002', '/wiki/PMID_(identifier)', '//pubmed.ncbi.nlm.nih.gov/18762443'], ['#cite_ref-77', 'http://www.yeastgenome.org/'], ['#cite_ref-Galagan_2005_78-0', 'https://doi.org/10.1038%2Fnature04341', '/wiki/Bibcode_(identifier)', 'https://ui.adsabs.harvard.edu/abs/2005Natur.438.1105G', '/wiki/Doi_(identifier)', 'https://doi.org/10.1038%2Fnature04341', '/wiki/PMID_(identifier)', '//pubmed.ncbi.nlm.nih.gov/16372000'], ['#cite_ref-79', '/wiki/Doi_(identifier)', 'https://doi.org/10.1163%2F156854107781352089'], ['#cite_ref-80', 'http://www.genomesize.com/statistics.php?stats=entire#stats_top'], ['#cite_ref-81', '/wiki/Bibcode_(identifier)', 'https://ui.adsabs.harvard.edu/abs/1998Sci...282.2012.', '/wiki/Doi_(identifier)', 'https://doi.org/10.1126%2Fscience.282.5396.2012', '/wiki/PMID_(identifier)', '//pubmed.ncbi.nlm.nih.gov/9851916', '/wiki/S2CID_(identifier)', 'https://api.semanticscholar.org/CorpusID:16873716'], ['#cite_ref-Adams_2000_82-0', '//www.ncbi.nlm.nih.gov/pmc/articles/PMC4109859', '/wiki/Doi_(identifier)', 'https://doi.org/10.1371%2Fjournal.pgen.1004522', '/wiki/PMC_(identifier)', '//www.ncbi.nlm.nih.gov/pmc/articles/PMC4109859', '/wiki/PMID_(identifier)', '//pubmed.ncbi.nlm.nih.gov/25057905'], ['#cite_ref-83', '//www.ncbi.nlm.nih.gov/pmc/articles/PMC2048586', '/wiki/Bibcode_(identifier)', 'https://ui.adsabs.harvard.edu/abs/2006Natur.443..931T', '/wiki/Doi_(identifier)', 'https://doi.org/10.1038%2Fnature05260', '/wiki/PMC_(identifier)', '//www.ncbi.nlm.nih.gov/pmc/articles/PMC2048586', '/wiki/PMID_(identifier)', '//pubmed.ncbi.nlm.nih.gov/17073008'], ['#cite_ref-Bombyxgenome_84-0', '/wiki/Doi_(identifier)', 'https://doi.org/10.1016%2Fj.ibmb.2008.11.004', '/wiki/PMID_(identifier)', '//pubmed.ncbi.nlm.nih.gov/19121390'], ['#cite_ref-Wurm_2011_85-0', '//www.ncbi.nlm.nih.gov/pmc/articles/PMC3078418', '/wiki/Bibcode_(identifier)', 'https://ui.adsabs.harvard.edu/abs/2011PNAS..108.5679W', '/wiki/Doi_(identifier)', 'https://doi.org/10.1073%2Fpnas.1009690108', '/wiki/PMC_(identifier)', '//www.ncbi.nlm.nih.gov/pmc/articles/PMC3078418', '/wiki/PMID_(identifier)', '//pubmed.ncbi.nlm.nih.gov/21282665'], ['#cite_ref-86', '//www.ncbi.nlm.nih.gov/pmc/articles/PMC2680341', '/wiki/Doi_(identifier)', 'https://doi.org/10.1371%2Fjournal.pbio.1000112', '/wiki/PMC_(identifier)', '//www.ncbi.nlm.nih.gov/pmc/articles/PMC2680341', '/wiki/PMID_(identifier)', '//pubmed.ncbi.nlm.nih.gov/19468303'], ['#cite_ref-Bonobo_87-0', 'https://www.ncbi.nlm.nih.gov/genome/10729'], ['#cite_ref-88', 'https://doi.org/10.1038%2F35057062', '/wiki/Doi_(identifier)', 'https://doi.org/10.1038%2F35057062', '/wiki/PMID_(identifier)', '//pubmed.ncbi.nlm.nih.gov/11237011'], ['#cite_ref-Homo_sapien_genome_size_89-0', 'https://web.archive.org/web/20080920064848/http://www.ornl.gov/sci/techresources/Human_Genome/faq/compgen.shtml#genomesize', 'http://www.ornl.gov/sci/techresources/Human_Genome/faq/compgen.shtml#genomesize'], ['#cite_ref-Analysis_of_human_genome_90-0', '/wiki/Craig_Venter', 'https://doi.org/10.1126%2Fscience.1058040', '/wiki/Bibcode_(identifier)', 'https://ui.adsabs.harvard.edu/abs/2001Sci...291.1304V', '/wiki/Doi_(identifier)', 'https://doi.org/10.1126%2Fscience.1058040', '/wiki/PMID_(identifier)', '//pubmed.ncbi.nlm.nih.gov/11181995'], ['#cite_ref-91', 'https://doi.org/10.1038%2Fnature03154', '/wiki/Bibcode_(identifier)', 'https://ui.adsabs.harvard.edu/abs/2004Natur.432..695C', '/wiki/Doi_(identifier)', 'https://doi.org/10.1038%2Fnature03154', '/wiki/ISSN_(identifier)', '//www.worldcat.org/issn/0028-0836', '/wiki/PMID_(identifier)', '//pubmed.ncbi.nlm.nih.gov/15592404'], ['#cite_ref-92', '//www.ncbi.nlm.nih.gov/pmc/articles/PMC310905', '/wiki/Doi_(identifier)', 'https://doi.org/10.1101%2Fgr.10.7.939', '/wiki/PMC_(identifier)', '//www.ncbi.nlm.nih.gov/pmc/articles/PMC310905', '/wiki/PMID_(identifier)', '//pubmed.ncbi.nlm.nih.gov/10899143'], ['#cite_ref-93', 'https://doi.org/10.1038%2Fnature03025', '/wiki/Bibcode_(identifier)', 'https://ui.adsabs.harvard.edu/abs/2004Natur.431..946J', '/wiki/Doi_(identifier)', 'https://doi.org/10.1038%2Fnature03025', '/wiki/PMID_(identifier)', '//pubmed.ncbi.nlm.nih.gov/15496914'], ['#cite_ref-94', 'https://web.archive.org/web/20120926160058/http://www.broadinstitute.org/annotation/tetraodon/background.html', 'http://www.broadinstitute.org/annotation/tetraodon/background.html'], ['#cite_ref-95', '/wiki/Bibcode_(identifier)', 'https://ui.adsabs.harvard.edu/abs/2015Sci...349.1483M', '/wiki/Doi_(identifier)', 'https://doi.org/10.1126%2Fscience.aab4082', '/wiki/PMID_(identifier)', '//pubmed.ncbi.nlm.nih.gov/26404825', '/wiki/S2CID_(identifier)', 'https://api.semanticscholar.org/CorpusID:13945473'], ['#cite_ref-pmid20595612_96-0', '//www.ncbi.nlm.nih.gov/pmc/articles/PMC3863715', '/wiki/Bibcode_(identifier)', 'https://ui.adsabs.harvard.edu/abs/2010Sci...329...78H', '/wiki/Doi_(identifier)', 'https://doi.org/10.1126%2Fscience.1187945', '/wiki/PMC_(identifier)', '//www.ncbi.nlm.nih.gov/pmc/articles/PMC3863715', '/wiki/PMID_(identifier)', '//pubmed.ncbi.nlm.nih.gov/20595612'], ['#cite_ref-pmid23223451_97-0', '//www.ncbi.nlm.nih.gov/pmc/articles/PMC3847602', '/wiki/Bibcode_(identifier)', 'https://ui.adsabs.harvard.edu/abs/2013Sci...339..448H', '/wiki/Doi_(identifier)', 'https://doi.org/10.1126%2Fscience.1229277', '/wiki/PMC_(identifier)', '//www.ncbi.nlm.nih.gov/pmc/articles/PMC3847602', '/wiki/PMID_(identifier)', '//pubmed.ncbi.nlm.nih.gov/23223451'], ['#cite_ref-98', 'https://www.rottentomatoes.com/m/gattaca/']]\n"
     ]
    }
   ],
   "source": [
    "references_list_raw = page_soup.findAll('ol', {'class': 'references'})\n",
    "references_list = references_list_raw[0].findAll('li', {})\n",
    "all_references = []\n",
    "\n",
    "for list_item in references_list:\n",
    "    references = []\n",
    "    for reference in list_item.findAll('a', {}):\n",
    "        references.append(reference['href'])\n",
    "    all_references.append(references)\n",
    "    \n",
    "print(all_references)\n",
    "\n",
    "\n"
   ]
  },
  {
   "cell_type": "code",
   "execution_count": null,
   "id": "cfedcb17-bfcc-4e0e-a282-a262737ed290",
   "metadata": {},
   "outputs": [],
   "source": []
  }
 ],
 "metadata": {
  "kernelspec": {
   "display_name": "Python 3",
   "language": "python",
   "name": "python3"
  },
  "language_info": {
   "codemirror_mode": {
    "name": "ipython",
    "version": 3
   },
   "file_extension": ".py",
   "mimetype": "text/x-python",
   "name": "python",
   "nbconvert_exporter": "python",
   "pygments_lexer": "ipython3",
   "version": "3.8.8"
  },
  "toc-autonumbering": false,
  "toc-showcode": false,
  "toc-showmarkdowntxt": true
 },
 "nbformat": 4,
 "nbformat_minor": 5
}
