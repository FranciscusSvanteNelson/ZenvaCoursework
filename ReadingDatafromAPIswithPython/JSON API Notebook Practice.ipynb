{
 "cells": [
  {
   "cell_type": "code",
   "execution_count": 1,
   "id": "c515e250",
   "metadata": {},
   "outputs": [],
   "source": [
    "from urllib.request import urlopen\n",
    "import json\n"
   ]
  },
  {
   "cell_type": "code",
   "execution_count": 2,
   "id": "0476f622",
   "metadata": {},
   "outputs": [
    {
     "name": "stdout",
     "output_type": "stream",
     "text": [
      "{\"help\": \"https://www.data.qld.gov.au/api/3/action/help_show?name=datastore_search\", \"success\": true, \"result\": {\"include_total\": true, \"resource_id\": \"7afe7233-fae0-4024-bc98-3a72f05675bd\", \"fields\": [{\"type\": \"int\", \"id\": \"_id\"}, {\"type\": \"text\", \"id\": \"Site\"}, {\"type\": \"numeric\", \"id\": \"Seconds\"}, {\"type\": \"timestamp\", \"id\": \"DateTime\"}, {\"type\": \"numeric\", \"id\": \"Water Level\"}, {\"type\": \"numeric\", \"id\": \"Prediction\"}, {\"type\": \"numeric\", \"id\": \"Residual\"}, {\"type\": \"numeric\", \"id\": \"Latitude\"}, {\"type\": \"numeric\", \"id\": \"Longitude\"}], \"records_format\": \"objects\", \"records\": [{\"_id\": 1, \"Site\": \"abellpoint\", \"Seconds\": 1636552800, \"DateTime\": \"2021-11-11T00:00:00\", \"Water Level\": 0.903, \"Prediction\": 0.861, \"Residual\": 0.042, \"Latitude\": -20.2608, \"Longitude\": 148.7103}, {\"_id\": 2, \"Site\": \"abellpoint\", \"Seconds\": 1636553400, \"DateTime\": \"2021-11-11T00:10:00\", \"Water Level\": 0.94, \"Prediction\": 0.901, \"Residual\": 0.039, \"Latitude\": -20.2608, \"Longitude\": 148.7103}, {\"_id\": 3, \"Site\": \"abellpoint\", \"Seconds\": 1636554000, \"DateTime\": \"2021-11-11T00:20:00\", \"Water Level\": 1.013, \"Prediction\": 0.944, \"Residual\": 0.069, \"Latitude\": -20.2608, \"Longitude\": 148.7103}, {\"_id\": 4, \"Site\": \"abellpoint\", \"Seconds\": 1636554600, \"DateTime\": \"2021-11-11T00:30:00\", \"Water Level\": 1.022, \"Prediction\": 0.988, \"Residual\": 0.034, \"Latitude\": -20.2608, \"Longitude\": 148.7103}, {\"_id\": 5, \"Site\": \"abellpoint\", \"Seconds\": 1636555200, \"DateTime\": \"2021-11-11T00:40:00\", \"Water Level\": 1.08, \"Prediction\": 1.035, \"Residual\": 0.045, \"Latitude\": -20.2608, \"Longitude\": 148.7103}], \"limit\": 5, \"_links\": {\"start\": \"/api/3/action/datastore_search?limit=5&resource_id=7afe7233-fae0-4024-bc98-3a72f05675bd\", \"next\": \"/api/3/action/datastore_search?offset=5&limit=5&resource_id=7afe7233-fae0-4024-bc98-3a72f05675bd\"}, \"total\": 61183}}\n"
     ]
    }
   ],
   "source": [
    "url = 'https://www.data.qld.gov.au/api/3/action/datastore_search?resource_id=7afe7233-fae0-4024-bc98-3a72f05675bd&limit=5'\n",
    "url_result  = urlopen(url)\n",
    "raw_data = url_result.read()\n",
    "json_data = json.loads(raw_data)\n",
    "json_string = json.dumps(json_data)\n",
    "\n",
    "print(json_string)\n"
   ]
  },
  {
   "cell_type": "code",
   "execution_count": 4,
   "id": "63ba4942",
   "metadata": {},
   "outputs": [
    {
     "name": "stdout",
     "output_type": "stream",
     "text": [
      "{'include_total': True, 'resource_id': '7afe7233-fae0-4024-bc98-3a72f05675bd', 'fields': [{'type': 'int', 'id': '_id'}, {'type': 'text', 'id': 'Site'}, {'type': 'numeric', 'id': 'Seconds'}, {'type': 'timestamp', 'id': 'DateTime'}, {'type': 'numeric', 'id': 'Water Level'}, {'type': 'numeric', 'id': 'Prediction'}, {'type': 'numeric', 'id': 'Residual'}, {'type': 'numeric', 'id': 'Latitude'}, {'type': 'numeric', 'id': 'Longitude'}], 'records_format': 'objects', 'records': [{'_id': 1, 'Site': 'abellpoint', 'Seconds': 1636552800, 'DateTime': '2021-11-11T00:00:00', 'Water Level': 0.903, 'Prediction': 0.861, 'Residual': 0.042, 'Latitude': -20.2608, 'Longitude': 148.7103}, {'_id': 2, 'Site': 'abellpoint', 'Seconds': 1636553400, 'DateTime': '2021-11-11T00:10:00', 'Water Level': 0.94, 'Prediction': 0.901, 'Residual': 0.039, 'Latitude': -20.2608, 'Longitude': 148.7103}, {'_id': 3, 'Site': 'abellpoint', 'Seconds': 1636554000, 'DateTime': '2021-11-11T00:20:00', 'Water Level': 1.013, 'Prediction': 0.944, 'Residual': 0.069, 'Latitude': -20.2608, 'Longitude': 148.7103}, {'_id': 4, 'Site': 'abellpoint', 'Seconds': 1636554600, 'DateTime': '2021-11-11T00:30:00', 'Water Level': 1.022, 'Prediction': 0.988, 'Residual': 0.034, 'Latitude': -20.2608, 'Longitude': 148.7103}, {'_id': 5, 'Site': 'abellpoint', 'Seconds': 1636555200, 'DateTime': '2021-11-11T00:40:00', 'Water Level': 1.08, 'Prediction': 1.035, 'Residual': 0.045, 'Latitude': -20.2608, 'Longitude': 148.7103}], 'limit': 5, '_links': {'start': '/api/3/action/datastore_search?limit=5&resource_id=7afe7233-fae0-4024-bc98-3a72f05675bd', 'next': '/api/3/action/datastore_search?offset=5&limit=5&resource_id=7afe7233-fae0-4024-bc98-3a72f05675bd'}, 'total': 61183}\n"
     ]
    }
   ],
   "source": [
    "result = json_data['result']\n",
    "print(result)"
   ]
  },
  {
   "cell_type": "code",
   "execution_count": 5,
   "id": "7dfc28f2",
   "metadata": {},
   "outputs": [
    {
     "name": "stdout",
     "output_type": "stream",
     "text": [
      "[{'_id': 1, 'Site': 'abellpoint', 'Seconds': 1636552800, 'DateTime': '2021-11-11T00:00:00', 'Water Level': 0.903, 'Prediction': 0.861, 'Residual': 0.042, 'Latitude': -20.2608, 'Longitude': 148.7103}, {'_id': 2, 'Site': 'abellpoint', 'Seconds': 1636553400, 'DateTime': '2021-11-11T00:10:00', 'Water Level': 0.94, 'Prediction': 0.901, 'Residual': 0.039, 'Latitude': -20.2608, 'Longitude': 148.7103}, {'_id': 3, 'Site': 'abellpoint', 'Seconds': 1636554000, 'DateTime': '2021-11-11T00:20:00', 'Water Level': 1.013, 'Prediction': 0.944, 'Residual': 0.069, 'Latitude': -20.2608, 'Longitude': 148.7103}, {'_id': 4, 'Site': 'abellpoint', 'Seconds': 1636554600, 'DateTime': '2021-11-11T00:30:00', 'Water Level': 1.022, 'Prediction': 0.988, 'Residual': 0.034, 'Latitude': -20.2608, 'Longitude': 148.7103}, {'_id': 5, 'Site': 'abellpoint', 'Seconds': 1636555200, 'DateTime': '2021-11-11T00:40:00', 'Water Level': 1.08, 'Prediction': 1.035, 'Residual': 0.045, 'Latitude': -20.2608, 'Longitude': 148.7103}]\n"
     ]
    }
   ],
   "source": [
    "records = result['records']\n",
    "print(records)"
   ]
  },
  {
   "cell_type": "code",
   "execution_count": 8,
   "id": "621105cb",
   "metadata": {},
   "outputs": [
    {
     "name": "stdout",
     "output_type": "stream",
     "text": [
      "abellpoint\n",
      "2021-11-11T00:00:00\n",
      "0.903\n",
      "0.861\n",
      "0.042\n"
     ]
    }
   ],
   "source": [
    "first_record = records[0]\n",
    "Site = first_record['Site']\n",
    "DateTime = first_record['DateTime']\n",
    "WaterLevel = first_record['Water Level']\n",
    "Prediction = first_record['Prediction']\n",
    "Residual = first_record['Residual']\n",
    "print(site)\n",
    "print(DateTime)\n",
    "print(WaterLevel)\n",
    "print(Prediction)\n",
    "print(Residual)\n"
   ]
  },
  {
   "cell_type": "code",
   "execution_count": 10,
   "id": "dbf6ed53",
   "metadata": {},
   "outputs": [
    {
     "name": "stdout",
     "output_type": "stream",
     "text": [
      "[['abellpoint', '2021-11-11T00:00:00', 0.903, 0.861, 0.042], ['abellpoint', '2021-11-11T00:10:00', 0.94, 0.901, 0.039], ['abellpoint', '2021-11-11T00:20:00', 1.013, 0.944, 0.069], ['abellpoint', '2021-11-11T00:30:00', 1.022, 0.988, 0.034], ['abellpoint', '2021-11-11T00:40:00', 1.08, 1.035, 0.045]]\n"
     ]
    }
   ],
   "source": [
    "records_data = []\n",
    "for record in records:\n",
    "    record_data = [\n",
    "        record['Site'],\n",
    "        record['DateTime'],\n",
    "        record['Water Level'],\n",
    "        record['Prediction'],\n",
    "        record['Residual'] \n",
    "    ]\n",
    "    records_data.append(record_data)\n",
    "print(records_data)"
   ]
  },
  {
   "cell_type": "code",
   "execution_count": 12,
   "id": "29d1109f",
   "metadata": {},
   "outputs": [],
   "source": [
    "filename = 'Storm Tide Data.csv'\n",
    "f = open(filename, 'w')\n",
    "\n",
    "headers = 'Site, DateTime, WaterLevel, Prediction, Residual\\n'\n",
    "f.write(headers)\n",
    "\n",
    "for record in records:\n",
    "    row_string = ''\n",
    "    row_string += record['Site'] + ','\n",
    "    row_string += record['DateTime'] + ','\n",
    "    row_string += str(record['Water Level']) + ','\n",
    "    row_string += str(record['Prediction']) + ','\n",
    "    row_string += str(record['Residual']) + '\\n'\n",
    "    f.write(row_string)\n",
    "    \n",
    "   \n",
    "    \n",
    "\n"
   ]
  },
  {
   "cell_type": "code",
   "execution_count": null,
   "id": "f1cbe62c",
   "metadata": {},
   "outputs": [],
   "source": []
  }
 ],
 "metadata": {
  "kernelspec": {
   "display_name": "Python 3",
   "language": "python",
   "name": "python3"
  },
  "language_info": {
   "codemirror_mode": {
    "name": "ipython",
    "version": 3
   },
   "file_extension": ".py",
   "mimetype": "text/x-python",
   "name": "python",
   "nbconvert_exporter": "python",
   "pygments_lexer": "ipython3",
   "version": "3.8.8"
  }
 },
 "nbformat": 4,
 "nbformat_minor": 5
}
