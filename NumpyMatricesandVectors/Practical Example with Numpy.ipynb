{
 "cells": [
  {
   "cell_type": "code",
   "execution_count": 1,
   "id": "a4a1c72c",
   "metadata": {},
   "outputs": [],
   "source": [
    "import numpy as np"
   ]
  },
  {
   "cell_type": "code",
   "execution_count": 4,
   "id": "ec2f7bb3",
   "metadata": {},
   "outputs": [
    {
     "name": "stdout",
     "output_type": "stream",
     "text": [
      "[56 78 98 90 58 64 72 93 51 67]\n"
     ]
    }
   ],
   "source": [
    "student_grades = np.array([56, 78, 98, 90, 58, 64, 72, 93, 51, 67])\n",
    "print(student_grades)"
   ]
  },
  {
   "cell_type": "code",
   "execution_count": 5,
   "id": "2262fb11",
   "metadata": {},
   "outputs": [
    {
     "name": "stdout",
     "output_type": "stream",
     "text": [
      "72.7\n"
     ]
    }
   ],
   "source": [
    "class_average = np.average(student_grades)\n",
    "print(class_average)"
   ]
  },
  {
   "cell_type": "code",
   "execution_count": 6,
   "id": "15b58413",
   "metadata": {},
   "outputs": [
    {
     "name": "stdout",
     "output_type": "stream",
     "text": [
      "98\n",
      "51\n"
     ]
    }
   ],
   "source": [
    "highest_grade = np.amax(student_grades)\n",
    "print(highest_grade)\n",
    "\n",
    "lowest_grade = np.amin(student_grades)\n",
    "print(lowest_grade)"
   ]
  },
  {
   "cell_type": "code",
   "execution_count": 7,
   "id": "72acd738",
   "metadata": {},
   "outputs": [
    {
     "name": "stdout",
     "output_type": "stream",
     "text": [
      "2\n",
      "8\n"
     ]
    }
   ],
   "source": [
    "print(np.argmax(student_grades))\n",
    "print(np.argmin(student_grades))"
   ]
  },
  {
   "cell_type": "code",
   "execution_count": 9,
   "id": "2ae8828f",
   "metadata": {},
   "outputs": [
    {
     "name": "stdout",
     "output_type": "stream",
     "text": [
      "[51 56 58 64 67 72 78 90 93 98]\n",
      "[98 93 90 78 72 67 64 58 56 51]\n"
     ]
    }
   ],
   "source": [
    "print(np.sort(student_grades))\n",
    "print(-np.sort(-student_grades))"
   ]
  },
  {
   "cell_type": "code",
   "execution_count": 11,
   "id": "a79bd6c0",
   "metadata": {},
   "outputs": [
    {
     "name": "stdout",
     "output_type": "stream",
     "text": [
      "[ 61.6  85.8 107.8  99.   63.8  70.4  79.2 102.3  56.1  73.7]\n"
     ]
    }
   ],
   "source": [
    "increased_grades = student_grades * 1.1\n",
    "print(increased_grades)"
   ]
  },
  {
   "cell_type": "code",
   "execution_count": 12,
   "id": "6aa8b774",
   "metadata": {},
   "outputs": [
    {
     "name": "stdout",
     "output_type": "stream",
     "text": [
      "[ 66  88 108 100  68  74  82 103  61  77]\n"
     ]
    }
   ],
   "source": [
    "increased_grades = student_grades + 10\n",
    "print(increased_grades)"
   ]
  },
  {
   "cell_type": "code",
   "execution_count": 15,
   "id": "425ccb9d",
   "metadata": {},
   "outputs": [
    {
     "name": "stdout",
     "output_type": "stream",
     "text": [
      "[57. 79. 99. 91. 59. 65. 73. 94. 52. 68.]\n"
     ]
    }
   ],
   "source": [
    "print(np.add(student_grades, np.ones(10)))"
   ]
  },
  {
   "cell_type": "code",
   "execution_count": 16,
   "id": "86d1dfa3",
   "metadata": {},
   "outputs": [
    {
     "name": "stdout",
     "output_type": "stream",
     "text": [
      "[ 57  80 101  94  63  70  79 101  60  77]\n"
     ]
    }
   ],
   "source": [
    "print(np.add(student_grades, np.array([1,2,3,4,5,6,7,8,9,10])))"
   ]
  },
  {
   "cell_type": "code",
   "execution_count": null,
   "id": "3b1b097d",
   "metadata": {},
   "outputs": [],
   "source": []
  }
 ],
 "metadata": {
  "kernelspec": {
   "display_name": "Python 3",
   "language": "python",
   "name": "python3"
  },
  "language_info": {
   "codemirror_mode": {
    "name": "ipython",
    "version": 3
   },
   "file_extension": ".py",
   "mimetype": "text/x-python",
   "name": "python",
   "nbconvert_exporter": "python",
   "pygments_lexer": "ipython3",
   "version": "3.8.8"
  }
 },
 "nbformat": 4,
 "nbformat_minor": 5
}
