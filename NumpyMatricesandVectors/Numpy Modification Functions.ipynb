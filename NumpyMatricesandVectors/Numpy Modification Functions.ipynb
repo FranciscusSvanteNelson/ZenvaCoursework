{
 "cells": [
  {
   "cell_type": "code",
   "execution_count": 1,
   "id": "c71a0990",
   "metadata": {},
   "outputs": [],
   "source": [
    "import numpy as np"
   ]
  },
  {
   "cell_type": "code",
   "execution_count": 2,
   "id": "1bd0609f",
   "metadata": {},
   "outputs": [
    {
     "name": "stdout",
     "output_type": "stream",
     "text": [
      "[0 1 2 3 4 5]\n"
     ]
    }
   ],
   "source": [
    "an_array = np.arange(0, 6)\n",
    "print(an_array)"
   ]
  },
  {
   "cell_type": "code",
   "execution_count": 3,
   "id": "9eafc3ee",
   "metadata": {},
   "outputs": [
    {
     "name": "stdout",
     "output_type": "stream",
     "text": [
      "[10  1  2  3  4  5]\n"
     ]
    }
   ],
   "source": [
    "an_array[0] = 10\n",
    "print(an_array)"
   ]
  },
  {
   "cell_type": "code",
   "execution_count": 4,
   "id": "542549c8",
   "metadata": {},
   "outputs": [
    {
     "name": "stdout",
     "output_type": "stream",
     "text": [
      "[0 1 2 3 4 5 6 7]\n"
     ]
    }
   ],
   "source": [
    "an_array = np.arange(0, 6)\n",
    "print(np.append(an_array, [6, 7]))\n"
   ]
  },
  {
   "cell_type": "code",
   "execution_count": 5,
   "id": "51fa814c",
   "metadata": {},
   "outputs": [
    {
     "name": "stdout",
     "output_type": "stream",
     "text": [
      "[10 14  0  1  2  3  4  5]\n"
     ]
    }
   ],
   "source": [
    "print(np.insert(an_array, 0, [10, 14]))"
   ]
  },
  {
   "cell_type": "code",
   "execution_count": 6,
   "id": "1d43c56d",
   "metadata": {},
   "outputs": [
    {
     "name": "stdout",
     "output_type": "stream",
     "text": [
      "[0 1 2 4 5]\n"
     ]
    }
   ],
   "source": [
    "print(np.delete(an_array, 3))"
   ]
  },
  {
   "cell_type": "code",
   "execution_count": 7,
   "id": "2bb52715",
   "metadata": {},
   "outputs": [
    {
     "name": "stdout",
     "output_type": "stream",
     "text": [
      "[ 0  2  4  6  8 10]\n"
     ]
    }
   ],
   "source": [
    "print(an_array * 2)"
   ]
  },
  {
   "cell_type": "code",
   "execution_count": 9,
   "id": "1f6237c2",
   "metadata": {},
   "outputs": [
    {
     "name": "stdout",
     "output_type": "stream",
     "text": [
      "[21 10  9  6  3  2]\n"
     ]
    }
   ],
   "source": [
    "another_array = np.array([3, 6, 21, 9, 10, 2])\n",
    "print(-np.sort(-another_array))"
   ]
  },
  {
   "cell_type": "code",
   "execution_count": null,
   "id": "805a2631",
   "metadata": {},
   "outputs": [],
   "source": []
  }
 ],
 "metadata": {
  "kernelspec": {
   "display_name": "Python 3",
   "language": "python",
   "name": "python3"
  },
  "language_info": {
   "codemirror_mode": {
    "name": "ipython",
    "version": 3
   },
   "file_extension": ".py",
   "mimetype": "text/x-python",
   "name": "python",
   "nbconvert_exporter": "python",
   "pygments_lexer": "ipython3",
   "version": "3.8.8"
  }
 },
 "nbformat": 4,
 "nbformat_minor": 5
}
